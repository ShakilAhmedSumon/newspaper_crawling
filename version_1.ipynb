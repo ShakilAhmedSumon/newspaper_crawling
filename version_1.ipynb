{
 "cells": [
  {
   "cell_type": "code",
   "execution_count": 1,
   "metadata": {},
   "outputs": [],
   "source": [
    "from parsel import Selector\n",
    "from selenium import webdriver\n",
    "from selenium.webdriver.common.keys import Keys\n",
    "import pandas as pd\n",
    "from datetime import date\n",
    "import time"
   ]
  },
  {
   "cell_type": "code",
   "execution_count": 27,
   "metadata": {},
   "outputs": [
    {
     "name": "stderr",
     "output_type": "stream",
     "text": [
      "[WDM] - Current google-chrome version is 86.0.4240\n",
      "[WDM] - Get LATEST driver version for 86.0.4240\n"
     ]
    },
    {
     "name": "stdout",
     "output_type": "stream",
     "text": [
      " \n"
     ]
    },
    {
     "name": "stderr",
     "output_type": "stream",
     "text": [
      "[WDM] - Driver [C:\\Users\\shakil.sumon\\.wdm\\drivers\\chromedriver\\win32\\86.0.4240.22\\chromedriver.exe] found in cache\n"
     ]
    }
   ],
   "source": [
    "from webdriver_manager.chrome import ChromeDriverManager\n",
    "\n",
    "driver = webdriver.Chrome(ChromeDriverManager().install())"
   ]
  },
  {
   "cell_type": "code",
   "execution_count": 28,
   "metadata": {},
   "outputs": [],
   "source": [
    "driver.get(\"https://www.observerbd.com/cat.php?cd=186&pg=9\")"
   ]
  },
  {
   "cell_type": "code",
   "execution_count": 29,
   "metadata": {},
   "outputs": [],
   "source": [
    "page = Selector(text=driver.page_source)"
   ]
  },
  {
   "cell_type": "code",
   "execution_count": 30,
   "metadata": {},
   "outputs": [
    {
     "data": {
      "text/plain": [
       "[<Selector xpath=\"//div[@class='title_inner']//a//b//text()\" data='Sheikh Hasina sends gifts to Mamata B...'>,\n",
       " <Selector xpath=\"//div[@class='title_inner']//a//b//text()\" data='Bangladesh under pressure not to relo...'>,\n",
       " <Selector xpath=\"//div[@class='title_inner']//a//b//text()\" data=\"Padma Bridge's 33rd span to be instal...\">,\n",
       " <Selector xpath=\"//div[@class='title_inner']//a//b//text()\" data='Multiple teams working for conservati...'>,\n",
       " <Selector xpath=\"//div[@class='title_inner']//a//b//text()\" data='Dhaka seeks $500 million from Tokyo t...'>,\n",
       " <Selector xpath=\"//div[@class='title_inner']//a//b//text()\" data='Two rape case accused arrested by RAB...'>,\n",
       " <Selector xpath=\"//div[@class='title_inner']//a//b//text()\" data='Health Minister calls to hold wedding...'>,\n",
       " <Selector xpath=\"//div[@class='title_inner']//a//b//text()\" data='Two more dies of coronavirus in Rajsh...'>,\n",
       " <Selector xpath=\"//div[@class='title_inner']//a//b//text()\" data=\"Writ challenging Wasa MD's reappointm...\">,\n",
       " <Selector xpath=\"//div[@class='title_inner']//a//b//text()\" data='BNP rejects by-polls results, declare...'>,\n",
       " <Selector xpath=\"//div[@class='title_inner']//a//b//text()\" data='Sheikh Hasina-Narendra Modi virtual m...'>,\n",
       " <Selector xpath=\"//div[@class='title_inner']//a//b//text()\" data='COVID-19: 14 more deaths, 1,209 cases...'>]"
      ]
     },
     "execution_count": 30,
     "metadata": {},
     "output_type": "execute_result"
    }
   ],
   "source": [
    "page.xpath(\"//div[@class='title_inner']//a//b//text()\")"
   ]
  },
  {
   "cell_type": "code",
   "execution_count": 36,
   "metadata": {},
   "outputs": [
    {
     "name": "stdout",
     "output_type": "stream",
     "text": [
      "Sheikh Hasina sends gifts to Mamata Banerjee on Durga Puja\n",
      "Bangladesh under pressure not to relocate Rohingyas to Bhasan Char: FM\n",
      "Padma Bridge's 33rd span to be installed on Monday\n",
      "Multiple teams working for conservation of Hilsa\n",
      "Dhaka seeks $500 million from Tokyo to buy Covid-19 vaccines\n",
      "Two rape case accused arrested by RAB from Pirojpur, Dhaka\n",
      "Health Minister calls to hold weddings in limited forms in winter\n",
      "Two more dies of coronavirus in Rajshahi division\n",
      "Writ challenging Wasa MD's reappointment turned down by HC\n",
      "BNP rejects by-polls results, declares two-day protest\n",
      "Sheikh Hasina-Narendra Modi virtual meeting Dec 17\n",
      "COVID-19: 14 more deaths, 1,209 cases reported\n"
     ]
    }
   ],
   "source": [
    "article_link = []\n",
    "for element in driver.find_elements_by_xpath(\"//div[@class='title_inner']//a\"):\n",
    "    print(element.text)\n",
    "    txt = element.text\n",
    "    if 'rape' in txt or 'sexual assault' in txt or 'gang rape' in txt:\n",
    "        article_link.append(element.get_attribute('href'))\n",
    "    "
   ]
  },
  {
   "cell_type": "code",
   "execution_count": 37,
   "metadata": {},
   "outputs": [
    {
     "data": {
      "text/plain": [
       "['https://www.observerbd.com/news.php?id=280350']"
      ]
     },
     "execution_count": 37,
     "metadata": {},
     "output_type": "execute_result"
    }
   ],
   "source": [
    "article_link"
   ]
  },
  {
   "cell_type": "code",
   "execution_count": 39,
   "metadata": {},
   "outputs": [],
   "source": [
    "driver.get(article_link[0])"
   ]
  },
  {
   "cell_type": "code",
   "execution_count": 46,
   "metadata": {},
   "outputs": [
    {
     "data": {
      "text/plain": [
       "'Sunday, 18 October, 2020'"
      ]
     },
     "execution_count": 46,
     "metadata": {},
     "output_type": "execute_result"
    }
   ],
   "source": [
    "driver.find_element_by_xpath(\"//div[@class='pub']//span\").text.split(':')[1].split('at')[0].strip()"
   ]
  },
  {
   "cell_type": "code",
   "execution_count": 50,
   "metadata": {},
   "outputs": [
    {
     "name": "stdout",
     "output_type": "stream",
     "text": [
      "HC asks to arrange marriage of rape convict-victim in jail\n",
      "Anti-rape protesters block Shahbagh\n",
      "MC College gang rape: Probe body submits report to HC\n",
      "Writ petition for branding arbitration in rape cases criminal offence\n",
      "Two rape case accused arrested by RAB from Pirojpur, Dhaka\n",
      "Mosharraf doubtful about death penalty to curb rape\n",
      "Anti-rape long march comes under attack in Feni, 10 hurt\n",
      "Anti-rape long march reaches Feni\n",
      "Police to hold nationwide anti-rape rally Saturday\n",
      "Anti-rape long march heads towards Noakhali from Dhaka\n",
      "Police to hold anti-rape rally on Saturday\n",
      "PM: Take extensive measures against rape\n",
      "Medical reports not essential to give punishment in rape cases: HC\n",
      "Attempt to rape allegation against UP chairman: Woman seeks justice\n",
      "Punishment for rape is death penalty, gazette published\n",
      "President signs ordinance on death penalty for rape\n",
      "MC College gangrape: Studentships of four accused revoked\n",
      "2 suspects remanded over DU student ‘rape’\n",
      "Death for rape, Ordinance Tuesday: Law Minister\n",
      "BNP shrugs off Law Minister’s promise to toughen anti-rape law\n",
      "Ananta Jalil reposts statement 'against rape' with victim-blaming bits edited out\n",
      "Death penalty will be maximum punishment for rape: State Minister\n",
      "BNP committed misdeeds, rape under party platform: Hasan\n",
      "Five arrested in Ashulia over gangrape\n",
      "'Law introducing death penalty for rape to be placed in cabinet'\n",
      "Shahbagh anti-rape movement enters 4th day\n",
      "13-year-old girl raped at BRAC School in Gazipur\n",
      "Govt to raise maximum punishment for rape to death sentence\n",
      "3 teenage gang members detained over Ashulia gangrape\n",
      "Protest against rape sparks in Shahbagh\n",
      "Noakhali woman assault: Accused Delwar sued for rape\n",
      "Protest against rape: Many FB profile pictures go black\n",
      "Black flag procession Tuesday protesting rape\n",
      "Students block Uttara road protesting rape, assault\n",
      "MC College hostel gangrape: Tareque, Masum confess to crimes\n",
      "Youth held for 'attempting rape' of girl in Keraniganj\n",
      "Saifur, Arjun rape housewife, Rabiul assists them\n",
      "Gang-rape of Housewife: Judicial probe body visits MC College\n",
      "BCL leader Sabuj remanded in rape case\n",
      "Dhaka (North) BCL VP Sabuj held on rape charges\n",
      "Accused Mahfuzur on 5-day remand over MC College gang rape\n",
      "Girl raped in Rajshahi church, priest held\n",
      "MC College gang-rape: High Court orders judicial probe\n",
      "Main accused in Ctg schoolgirl rape case held\n",
      "MC College gang rape: 3 accused on 5-day remand\n",
      "MC College gang rape: Accused Mahfuzur held\n",
      "Khagrachhari gang rape case: 6 accused confess to crime\n",
      "MC College gang rape: One more accused held\n",
      "MC College gang-rape: Two more accused arrested\n",
      "Khagrachhari robbery, gang rape of girl pre-planned: Police\n",
      "Chhatra League leaders get involve in rape incidents: Fakhrul\n",
      "MC College rape victim gives statement to court\n",
      "Woman 'raped' calling for work\n",
      "MC College gang rape: Prime accused among 2 held\n",
      "MC College gang rape: Prime accused Saifur held\n",
      "MC College gangrape: Probe body formed, two guards suspended\n",
      "MC College Hostel gangrape: Case filed against 9 BCL men\n",
      "MC College gang rape triggers protests\n",
      "Woman 'gang raped by BCL men' in Sylhet MC college; Case filed\n",
      "Ex-DUCSU VP Nur sued for rape\n",
      "Woman 'raped' by his father-in-law in capital\n",
      "Dhaka University student rape case trial begins\n",
      "'Accused didn't rape, but gave confession, it's confusing,' says HC\n",
      "Three sentenced to death in Rajbari for gangrape of female doctor\n",
      "Criminals gangrape wife tying husband up with CNG in Chattogram\n",
      "Four arrested on charge of gang-rape in Gazipur\n",
      "Job seeker raped in Gazipur resort\n",
      "107 women, children raped in July\n",
      "Rajshahi doctor arrested after filming rape, threatening victim to release clip\n",
      "3 held for attempted rape in Ashulia\n",
      "Rapists gang-rape wife tying up her husband in Savar\n",
      "Man rapes college girl luring her job in Shariatpur\n",
      "HC turns down Tufan’s bail in rape case\n",
      "Case filed for circulating rape video on FB\n",
      "Father, son kill four of a family after gangrape in Gazipur\n",
      "BTV senior cameraperson Rozina Akter dies\n",
      "Court sends bank official to jail over rape threat to AC (Land)\n",
      "Bank official held for threatening to rape AC (Land) Sayeema\n",
      "Street girl gang raped in Dhaka\n",
      "Supreme Court summons judge for granting bail to rape accused\n",
      "Two RU students arrested in rape case\n",
      "RMG worker gang raped; 2 held\n",
      "RU student remanded in rape case\n",
      "2 adolescent girls 'gang raped' in city house; 3 held\n",
      "Man held for attempt to rape a girl\n"
     ]
    }
   ],
   "source": [
    "i = 0\n",
    "article_link = []\n",
    "for i in range(500):\n",
    "    driver.get(\"https://www.observerbd.com/cat.php?cd=186&pg=\" + str(i))\n",
    "    time.sleep(10)\n",
    "    for element in driver.find_elements_by_xpath(\"//div[@class='title_inner']//a\"):\n",
    "        txt = element.text\n",
    "        if 'rape' in txt or 'sexual assault' in txt or 'gang rape' in txt:\n",
    "            article_link.append(element.get_attribute('href'))\n",
    "            print(txt)"
   ]
  },
  {
   "cell_type": "code",
   "execution_count": 51,
   "metadata": {},
   "outputs": [
    {
     "data": {
      "text/plain": [
       "85"
      ]
     },
     "execution_count": 51,
     "metadata": {},
     "output_type": "execute_result"
    }
   ],
   "source": [
    "len(article_link)"
   ]
  },
  {
   "cell_type": "code",
   "execution_count": 54,
   "metadata": {},
   "outputs": [],
   "source": [
    "df_dict = {\n",
    "    'Article List': article_link\n",
    "}"
   ]
  },
  {
   "cell_type": "code",
   "execution_count": 55,
   "metadata": {},
   "outputs": [],
   "source": [
    "df = pd.DataFrame.from_dict(article_link)"
   ]
  },
  {
   "cell_type": "code",
   "execution_count": 56,
   "metadata": {},
   "outputs": [
    {
     "data": {
      "text/html": [
       "<div>\n",
       "<style scoped>\n",
       "    .dataframe tbody tr th:only-of-type {\n",
       "        vertical-align: middle;\n",
       "    }\n",
       "\n",
       "    .dataframe tbody tr th {\n",
       "        vertical-align: top;\n",
       "    }\n",
       "\n",
       "    .dataframe thead th {\n",
       "        text-align: right;\n",
       "    }\n",
       "</style>\n",
       "<table border=\"1\" class=\"dataframe\">\n",
       "  <thead>\n",
       "    <tr style=\"text-align: right;\">\n",
       "      <th></th>\n",
       "      <th>0</th>\n",
       "    </tr>\n",
       "  </thead>\n",
       "  <tbody>\n",
       "    <tr>\n",
       "      <th>0</th>\n",
       "      <td>https://www.observerbd.com/news.php?id=281074</td>\n",
       "    </tr>\n",
       "    <tr>\n",
       "      <th>1</th>\n",
       "      <td>https://www.observerbd.com/news.php?id=280799</td>\n",
       "    </tr>\n",
       "    <tr>\n",
       "      <th>2</th>\n",
       "      <td>https://www.observerbd.com/news.php?id=280648</td>\n",
       "    </tr>\n",
       "    <tr>\n",
       "      <th>3</th>\n",
       "      <td>https://www.observerbd.com/news.php?id=280518</td>\n",
       "    </tr>\n",
       "    <tr>\n",
       "      <th>4</th>\n",
       "      <td>https://www.observerbd.com/news.php?id=280350</td>\n",
       "    </tr>\n",
       "    <tr>\n",
       "      <th>...</th>\n",
       "      <td>...</td>\n",
       "    </tr>\n",
       "    <tr>\n",
       "      <th>80</th>\n",
       "      <td>https://www.observerbd.com/news.php?id=248924</td>\n",
       "    </tr>\n",
       "    <tr>\n",
       "      <th>81</th>\n",
       "      <td>https://www.observerbd.com/news.php?id=246089</td>\n",
       "    </tr>\n",
       "    <tr>\n",
       "      <th>82</th>\n",
       "      <td>https://www.observerbd.com/news.php?id=243535</td>\n",
       "    </tr>\n",
       "    <tr>\n",
       "      <th>83</th>\n",
       "      <td>https://www.observerbd.com/news.php?id=243506</td>\n",
       "    </tr>\n",
       "    <tr>\n",
       "      <th>84</th>\n",
       "      <td>https://www.observerbd.com/news.php?id=242849</td>\n",
       "    </tr>\n",
       "  </tbody>\n",
       "</table>\n",
       "<p>85 rows × 1 columns</p>\n",
       "</div>"
      ],
      "text/plain": [
       "                                                0\n",
       "0   https://www.observerbd.com/news.php?id=281074\n",
       "1   https://www.observerbd.com/news.php?id=280799\n",
       "2   https://www.observerbd.com/news.php?id=280648\n",
       "3   https://www.observerbd.com/news.php?id=280518\n",
       "4   https://www.observerbd.com/news.php?id=280350\n",
       "..                                            ...\n",
       "80  https://www.observerbd.com/news.php?id=248924\n",
       "81  https://www.observerbd.com/news.php?id=246089\n",
       "82  https://www.observerbd.com/news.php?id=243535\n",
       "83  https://www.observerbd.com/news.php?id=243506\n",
       "84  https://www.observerbd.com/news.php?id=242849\n",
       "\n",
       "[85 rows x 1 columns]"
      ]
     },
     "execution_count": 56,
     "metadata": {},
     "output_type": "execute_result"
    }
   ],
   "source": [
    "df"
   ]
  },
  {
   "cell_type": "code",
   "execution_count": 57,
   "metadata": {},
   "outputs": [],
   "source": [
    "df.to_excel('article_observer.xlsx')"
   ]
  },
  {
   "cell_type": "code",
   "execution_count": null,
   "metadata": {},
   "outputs": [],
   "source": [
    "date_list = []\n",
    "title_list = []\n",
    "article_list = []\n",
    "for link in article_link:\n",
    "    driver.get(link)\n",
    "    time.sleep(10)\n",
    "    date = driver.find_element_by_xpath(\"//div[@class='pub']//span\").text.split(':')[1].split('at')[0].strip()\n",
    "    title = driver.find_element_by_xpath(\"//h1\").text\n",
    "    article = driver.find_element_by_xpath(\"//div[@id='f']\").text.replace('\\n','')\n",
    "    date_list.append(date)\n",
    "    title_list.append(title)\n",
    "    article_list.append(article)\n",
    "    "
   ]
  },
  {
   "cell_type": "code",
   "execution_count": 58,
   "metadata": {},
   "outputs": [],
   "source": [
    "driver.get(article_link[0])"
   ]
  },
  {
   "cell_type": "code",
   "execution_count": 59,
   "metadata": {},
   "outputs": [
    {
     "data": {
      "text/plain": [
       "'Friday, 23 October, 2020'"
      ]
     },
     "execution_count": 59,
     "metadata": {},
     "output_type": "execute_result"
    }
   ],
   "source": [
    "date = driver.find_element_by_xpath(\"//div[@class='pub']//span\").text.split(':')[1].split('at')[0].strip()"
   ]
  },
  {
   "cell_type": "code",
   "execution_count": 62,
   "metadata": {},
   "outputs": [
    {
     "data": {
      "text/plain": [
       "'HC asks to arrange marriage of rape convict-victim in jail'"
      ]
     },
     "execution_count": 62,
     "metadata": {},
     "output_type": "execute_result"
    }
   ],
   "source": [
    "title = driver.find_element_by_xpath(\"//h1\").text"
   ]
  },
  {
   "cell_type": "code",
   "execution_count": 64,
   "metadata": {},
   "outputs": [
    {
     "data": {
      "text/plain": [
       "'HC asks to arrange marriage of rape convict-victim in jailThe High Court has asked the authorities of Rajshahi jail to arrange the marriage of a convict, who was sentenced to life term in 2012 in a rape case, with the victim woman at prison gate.An HC bench of Justices M Enayetur Rahim and Md Mostafizur Rahman passed the order on Thursday in consent of the both families.The court also ordered to place a written report within a month of marriage. Then, the court will consider the bail of the convict.Deputy Attorney General Md Sarwar Hossain Bappy stood for the state while Adv SM Shahed Chowdhury for the petitioner.According to the case statement, convict Dilip Khalko, a resident of Godagari upazila, had an love affair with his 14-year-old cousin. Following the relationship, the duo established a physical relation between them on February 25, 2011, which led the teenage girl got pregnant. In this situation, Dilip refused to marry her.Later on October 23, the victim girl filed a rape case with Godagari Police Station against Dilip Khalko .On June 12, a tribunal sentenced Dilip to life term imprisonment in the case and fined him Tk 50,000.TF'"
      ]
     },
     "execution_count": 64,
     "metadata": {},
     "output_type": "execute_result"
    }
   ],
   "source": [
    "article = driver.find_element_by_xpath(\"//div[@id='f']\").text.replace('\\n','')"
   ]
  },
  {
   "cell_type": "code",
   "execution_count": null,
   "metadata": {},
   "outputs": [],
   "source": []
  }
 ],
 "metadata": {
  "kernelspec": {
   "display_name": "Python 3",
   "language": "python",
   "name": "python3"
  },
  "language_info": {
   "codemirror_mode": {
    "name": "ipython",
    "version": 3
   },
   "file_extension": ".py",
   "mimetype": "text/x-python",
   "name": "python",
   "nbconvert_exporter": "python",
   "pygments_lexer": "ipython3",
   "version": "3.7.4"
  }
 },
 "nbformat": 4,
 "nbformat_minor": 2
}
